{
 "cells": [
  {
   "cell_type": "code",
   "execution_count": null,
   "metadata": {},
   "outputs": [],
   "source": [
    "import pandas as pd\n",
    "import seaborn as sns\n",
    "sns.set(style=\"darkgrid\")\n",
    "import matplotlib.pyplot as plt\n",
    "sns.set(style=\"ticks\", color_codes=True)\n",
    "\n",
    "# Reading data from the data source\n",
    "data = pd.read_csv('data.csv')\n",
    "# Changing column names for readability\n",
    "column_dict = {\n",
    "    \"What year are you in?\": \"current_year\",\n",
    "    \"What faculty are you in?\": \"faculty\", \n",
    "    \"What was your high school average when you applied to the University of Waterloo?\": \"hs_average\",\n",
    "    \"What is your nationality status?\": \"nationality_status\",\n",
    "    \"What is the highest education level your parents have completed?  [Parent 1]\": \"parent1_education\",\n",
    "    \"What is the highest education level your parents have completed?  [Parent 2]\": \"parent2_education\",\n",
    "    \"On average, how much time do you spend per week participating in social activities during an academic term? (i.e. extracurricular activities, movies, eating out, bars, parties, hanging out, etc.)\": \"social_time\",\n",
    "    \"On average, what percentage of classes do you feel that you attend during an academic term? \": \"class_attendance\",\n",
    "    \"On average, excluding studying, how much time do you spend looking at a screen, during an academic term? (i.e. Phone, Laptop, TV, etc) \": \"screen_time\",\n",
    "    \"On average, how much sleep do you get per night during an academic term? \": \"sleep_time\",\n",
    "    \"On average, how many days do you exercise each week during an academic term?\": \"excercise_time\",\n",
    "    \"On average, how much time do you spend doing school work / studying on a given day during an academic term?\": \"school_work_time\",\n",
    "    \"In relation to school work, how much time do you spend on coop preparation during an academic term? (ie. applications. interview prep. practice, interviews, etc)\": \"coop_time\",\n",
    "    \"Is it a high priority for you to achieve an 80%+ average\": \"academic_priority\",\n",
    "    'What is your current cumulative average?': \"current_average\"\n",
    "}\n",
    "#  Dictionary for Changing nationality answers for readability\n",
    "nationality_dict = {\n",
    "    'International (You are not a Canadian Citizen and are here on a Visa)':'Internationl',\n",
    "    '1st Generation Canadian Citizen (You were not born in Canada and You are a Canadian Citizen)':'1st_Gen',\n",
    "    '2nd+ Generation Canadian Citizen (You were born in Canada and you are a Canadian Citizen)':'2nd+_Gen'\n",
    "}\n",
    "#  Dictionary for Changing sleep time answers for readability\n",
    "sleep_dict = {\n",
    "    \"Not enough (I'm always tired)\":\"Not Enough\",\n",
    "    \"Enough (I'm rested most of the time)\":\"Enough\",\n",
    "    \"More than enough (I'm always well rested)\":\"More than Enough\"\n",
    "}\n",
    "#  Dictionary for Changing screen time answers for readability\n",
    "screen_dict = {\n",
    "    'Regularly, but not a significant amount':'Regularly',\n",
    "    \"I'm almost always looking at a screen\":'Almost Always',\n",
    "    'A significant amount':'A significant amount',\n",
    "    'Almost never':'Almost never'\n",
    "}\n",
    "#  Dictionary for Changing co-op time answers for readability\n",
    "coop_dict = {\n",
    "    'Almost none':'Almost none',\n",
    "    'About the same if not more as school work':\"Same or More\",\n",
    "    'A significant amount but still less than school work':'Significant,but less than school',\n",
    "    'A lot less than school work':'A lot less than school work' \n",
    "}\n",
    "# Dictionary for Changing social time answers for readability\n",
    "social_dict = {\n",
    "    'Once or twice a week':'Once/Twice Weekly',\n",
    "    'Multiple days a week':'Multiple Weekly',\n",
    "    'Rarely':'Rarely'\n",
    "}\n",
    "# Renaming columns\n",
    "data = data.rename(index=str,columns = column_dict)\n",
    "# Extracting data for only engineering students\n",
    "data = data[data['faculty']==\"Engineering\"]\n",
    "\n",
    "# Updating a few rows of data due to incorrect initial survey deployment\n",
    "# for i in range(0,12):\n",
    "#     data.loc[\"faculty\",i]='Engineering'\n",
    "# Dropping e-mail address values for confidentiality reasobs\n",
    "data = data.drop(axis=1,columns=[\"Enter your email address OR phone number if you'd like to be entered for a chance to win 1 of 4 $20 amazon gift cards\"])\n",
    "# Updating column values for readability\n",
    "data.nationality_status = data.nationality_status.map(nationality_dict)\n",
    "data.sleep_time = data.sleep_time.map(sleep_dict)\n",
    "data.social_time = data.social_time.map(social_dict)\n",
    "data.coop_time = data.coop_time.map(coop_dict)\n",
    "data.screen_time = data.screen_time.map(screen_dict)\n",
    "\n",
    "print(data[\"current_average\"].unique())"
   ]
  },
  {
   "cell_type": "markdown",
   "metadata": {},
   "source": [
    "# Exploring Relationship of cGPA with All Explanatory Variables"
   ]
  },
  {
   "cell_type": "markdown",
   "metadata": {},
   "source": [
    "Initial exploratory data analysis is being conducted by through basic charts in order to get a better understanding of all of the existing data, in order to see the distribution of the data. This is being done as an altnernative to generating summary tables of the existing data, due to the variance of data types accross columns. The relationship of each of the variables with the cGPA are explored below."
   ]
  },
  {
   "cell_type": "code",
   "execution_count": null,
   "metadata": {},
   "outputs": [],
   "source": [
    "order=['60-64%','65-69%','70-74%','75-79%','80-84%','85-89%','90-94%','95-100%''Prefer not to say']\n"
   ]
  },
  {
   "cell_type": "code",
   "execution_count": null,
   "metadata": {},
   "outputs": [],
   "source": [
    "# import seaborn as sns\n",
    "# import matplotlib.pyplot as plt\n",
    "# from  matplotlib.ticker import PercentFormatter\n",
    "\n",
    "def normalize_3_variables(data,x,y,column,hue):\n",
    "    normalized_data = data[[x,y,column,hue]]\n",
    "    normalized_data = normalized_data.groupby([x,y,column,hue],as_index=False).size().reset_index()\n",
    "    normalized_data = normalized_data.rename(index=str,columns = {0:\"percent\"})\n",
    "    normalized_data[\"percent\"] = 100*(normalized_data[\"percent\"]/sum(normalized_data[\"percent\"]))\n",
    "    return normalized_data\n",
    "\n",
    "def normalize_2_variables(data,x,y,column):\n",
    "    normalized_data = data[[x,y,column]]\n",
    "    normalized_data = normalized_data.groupby([x,y,column],as_index=False).size().reset_index()\n",
    "    normalized_data = normalized_data.rename(index=str,columns = {0:\"percent\"})\n",
    "    normalized_data[\"percent\"] = 100*(normalized_data[\"percent\"]/sum(normalized_data[\"percent\"]))\n",
    "    return normalized_data\n",
    "\n",
    "\n",
    "def normalize_1_variables(data,x,y):\n",
    "    normalized_data = data[[x,y]]\n",
    "    normalized_data = normalized_data.groupby([x,y],as_index=False).size().reset_index()\n",
    "    normalized_data = normalized_data.rename(index=str,columns = {0:\"percent\"})\n",
    "    normalized_data[\"percent\"] = 100*(normalized_data[\"percent\"]/sum(normalized_data[\"percent\"]))\n",
    "    return normalized_data\n",
    "\n",
    "\n",
    "x = normalize_1_variables(data,'current_average','current_year')\n",
    "print(x)\n",
    "\n"
   ]
  },
  {
   "cell_type": "code",
   "execution_count": null,
   "metadata": {},
   "outputs": [],
   "source": [
    "print(data[\"current_average\"].unique())\n",
    "normalized_data = data[['current_average','current_year','nationality_status','academic_priority']]\n",
    "normalized_data = normalized_data.groupby(['current_average','current_year',\"nationality_status\",\"academic_priority\"],as_index=False).size().reset_index()\n",
    "normalized_data = normalized_data.rename(index=str,columns = {0:\"count\"})\n",
    "normalized_data[\"count\"] = 100*(normalized_data[\"count\"]/sum(normalized_data[\"count\"]))\n",
    "print(normalized_data)"
   ]
  },
  {
   "cell_type": "code",
   "execution_count": null,
   "metadata": {},
   "outputs": [],
   "source": [
    "\n",
    "normalized_data = data.groupby(['current_average','current_year'],as_index=False)\n",
    "print(normalized_data)\n",
    "# a = sns.catplot(x=\"current_average\",order=order,col=\"academic_priority\",hue=\"current_year\",data=data,kind='count',height=10,aspect=1)\n"
   ]
  },
  {
   "cell_type": "code",
   "execution_count": null,
   "metadata": {},
   "outputs": [],
   "source": [
    "normalized_data = data.groupby(['current_average','current_year']).reset_index()\n",
    "# normalized_data.reset_index(level=['current_average', 'current_year'])\n",
    "print(current_year)\n",
    "\n",
    "# normalized_data.append(normalized_data.sum(numeric_only=True), ignore_index=True)\n",
    "# print(normalized_data)\n",
    "sns.catplot(x=\"current_average\",order=['60-64%','65-69%','70-74%','75-79%','80-84%','85-89%','90-94%','95-100%''Prefer not to say'],col=\"academic_priority\",hue=\"current_year\",data=data,kind='count',height=10,aspect=1)\n",
    "\n"
   ]
  },
  {
   "cell_type": "code",
   "execution_count": null,
   "metadata": {},
   "outputs": [],
   "source": [
    "\n",
    "sns.catplot(x=\"current_average\",order=['60-64%','65-69%','70-74%','75-79%','80-84%','85-89%','90-94%','95-100%''Prefer not to say'],hue=\"current_year\",col=\"academic_priority\",data=data,kind='count',height=10,aspect=1)\n",
    "\n"
   ]
  },
  {
   "cell_type": "code",
   "execution_count": null,
   "metadata": {},
   "outputs": [],
   "source": [
    "sns.catplot(col=\"academic_priority\",x=\"current_average\",order=['60-64%','65-69%','70-74%','75-79%','80-84%','85-89%','90-94%','95-100%''Prefer not to say'],data=data,kind='count',height=10,aspect=1)\n"
   ]
  },
  {
   "cell_type": "code",
   "execution_count": null,
   "metadata": {},
   "outputs": [],
   "source": [
    "print(data.columns)"
   ]
  },
  {
   "cell_type": "code",
   "execution_count": null,
   "metadata": {},
   "outputs": [],
   "source": [
    "sns.catplot(col=\"nationality_status\",x=\"current_average\",order=['60-64%','65-69%','70-74%','75-79%','80-84%','85-89%','90-94%','95-100%''Prefer not to say'],data=data,kind='count',height=10,aspect=1)\n"
   ]
  },
  {
   "cell_type": "code",
   "execution_count": null,
   "metadata": {},
   "outputs": [],
   "source": []
  }
 ],
 "metadata": {
  "kernelspec": {
   "display_name": "Python 3",
   "language": "python",
   "name": "python3"
  },
  "language_info": {
   "codemirror_mode": {
    "name": "ipython",
    "version": 3
   },
   "file_extension": ".py",
   "mimetype": "text/x-python",
   "name": "python",
   "nbconvert_exporter": "python",
   "pygments_lexer": "ipython3",
   "version": "3.7.0"
  }
 },
 "nbformat": 4,
 "nbformat_minor": 2
}
